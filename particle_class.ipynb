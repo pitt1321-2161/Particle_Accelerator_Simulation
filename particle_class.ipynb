{
 "cells": [
  {
   "cell_type": "code",
   "execution_count": 83,
   "metadata": {
    "collapsed": false
   },
   "outputs": [
    {
     "name": "stdout",
     "output_type": "stream",
     "text": [
      "Particle Class Tests Passed\n",
      "Particle: pip, Mass: 0.135 GeV/c**2, Charge: 1, Lifetime: 2.0 s, Energy: 1.22137083333 GeV, Momentum: 1.21388702626 GeV/c\n",
      "Particle: Km, Mass: 1.3 GeV/c**2, Charge: -1, Lifetime: 3.0 s, Energy: 1.77862916667 GeV, Momentum: 1.21388702626 GeV/c\n",
      "Two Body Decay Tests Passed\n",
      "Neutral Particle Path tests passed\n"
     ]
    },
    {
     "name": "stderr",
     "output_type": "stream",
     "text": [
      "C:\\Users\\Anthony\\Anaconda\\lib\\site-packages\\IPython\\kernel\\__main__.py:18: RuntimeWarning: invalid value encountered in sqrt\n"
     ]
    },
    {
     "ename": "AssertionError",
     "evalue": "\nArrays are not almost equal to 7 decimals\n ACTUAL: 5\n DESIRED: 40.547438944284877",
     "output_type": "error",
     "traceback": [
      "\u001b[1;31m---------------------------------------------------------------------------\u001b[0m",
      "\u001b[1;31mAssertionError\u001b[0m                            Traceback (most recent call last)",
      "\u001b[1;32m<ipython-input-83-c01ca1544384>\u001b[0m in \u001b[0;36m<module>\u001b[1;34m()\u001b[0m\n\u001b[0;32m      5\u001b[0m     \u001b[0mcharged_particle_path_test\u001b[0m\u001b[1;33m(\u001b[0m\u001b[1;33m)\u001b[0m\u001b[1;33m\u001b[0m\u001b[0m\n\u001b[0;32m      6\u001b[0m \u001b[1;33m\u001b[0m\u001b[0m\n\u001b[1;32m----> 7\u001b[1;33m \u001b[0mrun_all_tests\u001b[0m\u001b[1;33m(\u001b[0m\u001b[1;33m)\u001b[0m\u001b[1;33m\u001b[0m\u001b[0m\n\u001b[0m\u001b[0;32m      8\u001b[0m \u001b[1;33m\u001b[0m\u001b[0m\n\u001b[0;32m      9\u001b[0m \u001b[1;31m# Particle class, Two body decay, and Neutral particle paths work\u001b[0m\u001b[1;33m\u001b[0m\u001b[1;33m\u001b[0m\u001b[0m\n",
      "\u001b[1;32m<ipython-input-83-c01ca1544384>\u001b[0m in \u001b[0;36mrun_all_tests\u001b[1;34m()\u001b[0m\n\u001b[0;32m      3\u001b[0m     \u001b[0mtwo_body_decay_test\u001b[0m\u001b[1;33m(\u001b[0m\u001b[1;33m)\u001b[0m\u001b[1;33m\u001b[0m\u001b[0m\n\u001b[0;32m      4\u001b[0m     \u001b[0mneutral_particle_path_test\u001b[0m\u001b[1;33m(\u001b[0m\u001b[1;33m)\u001b[0m\u001b[1;33m\u001b[0m\u001b[0m\n\u001b[1;32m----> 5\u001b[1;33m     \u001b[0mcharged_particle_path_test\u001b[0m\u001b[1;33m(\u001b[0m\u001b[1;33m)\u001b[0m\u001b[1;33m\u001b[0m\u001b[0m\n\u001b[0m\u001b[0;32m      6\u001b[0m \u001b[1;33m\u001b[0m\u001b[0m\n\u001b[0;32m      7\u001b[0m \u001b[0mrun_all_tests\u001b[0m\u001b[1;33m(\u001b[0m\u001b[1;33m)\u001b[0m\u001b[1;33m\u001b[0m\u001b[0m\n",
      "\u001b[1;32m<ipython-input-81-8ecb5ab08cca>\u001b[0m in \u001b[0;36mcharged_particle_path_test\u001b[1;34m()\u001b[0m\n\u001b[0;32m     22\u001b[0m     \u001b[1;31m# Check final position\u001b[0m\u001b[1;33m\u001b[0m\u001b[1;33m\u001b[0m\u001b[0m\n\u001b[0;32m     23\u001b[0m     \u001b[0mtest\u001b[0m\u001b[1;33m.\u001b[0m\u001b[0massert_almost_equal\u001b[0m\u001b[1;33m(\u001b[0m\u001b[1;36m9\u001b[0m\u001b[1;33m,\u001b[0m\u001b[0mD_plus_path\u001b[0m\u001b[1;33m[\u001b[0m\u001b[1;33m-\u001b[0m\u001b[1;36m1\u001b[0m\u001b[1;33m,\u001b[0m\u001b[1;36m0\u001b[0m\u001b[1;33m]\u001b[0m\u001b[1;33m)\u001b[0m\u001b[1;33m\u001b[0m\u001b[0m\n\u001b[1;32m---> 24\u001b[1;33m     \u001b[0mtest\u001b[0m\u001b[1;33m.\u001b[0m\u001b[0massert_almost_equal\u001b[0m\u001b[1;33m(\u001b[0m\u001b[1;36m5\u001b[0m\u001b[1;33m,\u001b[0m\u001b[0mD_plus_path\u001b[0m\u001b[1;33m[\u001b[0m\u001b[1;33m-\u001b[0m\u001b[1;36m1\u001b[0m\u001b[1;33m,\u001b[0m\u001b[1;36m2\u001b[0m\u001b[1;33m]\u001b[0m\u001b[1;33m)\u001b[0m\u001b[1;33m\u001b[0m\u001b[0m\n\u001b[0m\u001b[0;32m     25\u001b[0m     \u001b[0mtest\u001b[0m\u001b[1;33m.\u001b[0m\u001b[0massert_almost_equal\u001b[0m\u001b[1;33m(\u001b[0m\u001b[1;36m4\u001b[0m\u001b[1;33m,\u001b[0m\u001b[0mD_plus_path\u001b[0m\u001b[1;33m[\u001b[0m\u001b[1;33m-\u001b[0m\u001b[1;36m1\u001b[0m\u001b[1;33m,\u001b[0m\u001b[1;36m4\u001b[0m\u001b[1;33m]\u001b[0m\u001b[1;33m)\u001b[0m\u001b[1;33m\u001b[0m\u001b[0m\n\u001b[0;32m     26\u001b[0m     \u001b[1;31m# Check final velocity\u001b[0m\u001b[1;33m\u001b[0m\u001b[1;33m\u001b[0m\u001b[0m\n",
      "\u001b[1;32mC:\\Users\\Anthony\\Anaconda\\lib\\site-packages\\numpy\\testing\\utils.pyc\u001b[0m in \u001b[0;36massert_almost_equal\u001b[1;34m(actual, desired, decimal, err_msg, verbose)\u001b[0m\n\u001b[0;32m    488\u001b[0m         \u001b[1;32mpass\u001b[0m\u001b[1;33m\u001b[0m\u001b[0m\n\u001b[0;32m    489\u001b[0m     \u001b[1;32mif\u001b[0m \u001b[0mround\u001b[0m\u001b[1;33m(\u001b[0m\u001b[0mabs\u001b[0m\u001b[1;33m(\u001b[0m\u001b[0mdesired\u001b[0m \u001b[1;33m-\u001b[0m \u001b[0mactual\u001b[0m\u001b[1;33m)\u001b[0m\u001b[1;33m,\u001b[0m \u001b[0mdecimal\u001b[0m\u001b[1;33m)\u001b[0m \u001b[1;33m!=\u001b[0m \u001b[1;36m0\u001b[0m \u001b[1;33m:\u001b[0m\u001b[1;33m\u001b[0m\u001b[0m\n\u001b[1;32m--> 490\u001b[1;33m         \u001b[1;32mraise\u001b[0m \u001b[0mAssertionError\u001b[0m\u001b[1;33m(\u001b[0m\u001b[0m_build_err_msg\u001b[0m\u001b[1;33m(\u001b[0m\u001b[1;33m)\u001b[0m\u001b[1;33m)\u001b[0m\u001b[1;33m\u001b[0m\u001b[0m\n\u001b[0m\u001b[0;32m    491\u001b[0m \u001b[1;33m\u001b[0m\u001b[0m\n\u001b[0;32m    492\u001b[0m \u001b[1;33m\u001b[0m\u001b[0m\n",
      "\u001b[1;31mAssertionError\u001b[0m: \nArrays are not almost equal to 7 decimals\n ACTUAL: 5\n DESIRED: 40.547438944284877"
     ]
    }
   ],
   "source": [
    "def run_all_tests():\n",
    "    particle_class_test()\n",
    "    two_body_decay_test()\n",
    "    neutral_particle_path_test()\n",
    "    charged_particle_path_test()\n",
    "    \n",
    "run_all_tests()\n",
    "\n",
    "# Particle class, Two body decay, and Neutral particle paths work\n",
    "# Charged particle path does not"
   ]
  },
  {
   "cell_type": "code",
   "execution_count": 45,
   "metadata": {
    "collapsed": false
   },
   "outputs": [
    {
     "name": "stdout",
     "output_type": "stream",
     "text": [
      "[0.3046038495400858]\n",
      "0.527589343584\n",
      "0.173205080757\n",
      "Particle: D0, Mass: 3.0 GeV/c**2, Charge: 0, Lifetime: 1.1 s, Energy: 3.0460384954 GeV, Momentum: 0.527589343584 GeV/c\n"
     ]
    }
   ],
   "source": [
    "import numpy as np\n",
    "from __future__ import division\n",
    "\n",
    "class Particle:\n",
    "\n",
    "    def __init__(self,name,x,y,z,vx,vy,vz,m,q,t):\n",
    "        self.__name = name\n",
    "        self.__x = x \n",
    "        self.__y = y\n",
    "        self.__z = z\n",
    "        self.__vx = vx\n",
    "        self.__vy = vy\n",
    "        self.__vz = vz\n",
    "        self.__v = np.sqrt(vx[0]**2+vy[0]**2+vz[0]**2)\n",
    "        self.__m = float(m)\n",
    "        self.__q = q \n",
    "        self.__t = float(t)\n",
    "        self.__gamma = float(1/np.sqrt(1-(self.__v)**2))\n",
    "        self.__px = []\n",
    "        self.__py = []\n",
    "        self.__pz = []\n",
    "        for i in range(len(vx)):\n",
    "            self.__px.append(self.__gamma * self.__m * self.__vx[i])\n",
    "            self.__py.append(self.__gamma * self.__m * self.__vy[i])\n",
    "            self.__pz.append(self.__gamma * self.__m * self.__vz[i])\n",
    "        self.__p = np.sqrt(self.__px[0]**2+self.__py[0]**2+self.__pz[0]**2)\n",
    "        \n",
    "    def name(self):\n",
    "        return self.__name\n",
    "        \n",
    "    def x(self):\n",
    "        return self.__x\n",
    "        \n",
    "    def y(self):\n",
    "        return self.__y\n",
    "        \n",
    "    def z(self):\n",
    "        return self.__z\n",
    "    \n",
    "    \n",
    "    def vx(self):\n",
    "        return self.__vx\n",
    "        \n",
    "    def vy(self):\n",
    "        return self.__vy\n",
    "        \n",
    "    def vz(self):\n",
    "        return self.__vz   \n",
    "        \n",
    "    def v(self):\n",
    "        return self.__v\n",
    "        \n",
    "        \n",
    "    def gamma(self):\n",
    "        return self.__gamma\n",
    "    \n",
    "    def mass(self):\n",
    "        return self.__m\n",
    "        \n",
    "    def charge(self):\n",
    "        return self.__q\n",
    "        \n",
    "    def lifetime(self):\n",
    "        return self.__t\n",
    "        \n",
    "    def px(self):\n",
    "        return self.__px\n",
    "        \n",
    "    def py(self):\n",
    "        return self.__py\n",
    "        \n",
    "    def pz(self):\n",
    "        return self.__pz\n",
    "        \n",
    "    def p(self):\n",
    "        return self.__p\n",
    "\n",
    "    def set_p4(self, Px, Py, Pz, E):\n",
    "        pass\n",
    "    \n",
    "    def e(self):\n",
    "        return np.sqrt(self.__p**2+self.__m**2)\n",
    "    \n",
    "    def array(self):\n",
    "        return [self.__x[0], self.__vx[0], self.__y[0], self.__vy[0], self.__z[0], self.__vz[0], self.__m, self.__q]\n",
    "    \n",
    "    def __str__(self):\n",
    "        return 'Particle: {}, Mass: {} GeV/c**2, Charge: {}, Lifetime: {} s, Energy: {} GeV, Momentum: {} GeV/c'.format(\n",
    "            self.__name, self.__m, self.__q, self.__t, self.e(), self.__p)\n",
    "                \n",
    "D0 = Particle('D0',[0],[0],[0],[.1],[.1],[.1],3.0,0,1.1)\n",
    "print(D0.px())\n",
    "print(D0.p())\n",
    "print(D0.v())\n",
    "print(D0)"
   ]
  },
  {
   "cell_type": "code",
   "execution_count": 29,
   "metadata": {
    "collapsed": false
   },
   "outputs": [
    {
     "name": "stdout",
     "output_type": "stream",
     "text": [
      "Particle Class Tests Passed\n"
     ]
    }
   ],
   "source": [
    "import numpy.testing as test\n",
    "\n",
    "def particle_class_test():\n",
    "    D0 = Particle('D0',[0],[0],[0],[.4],[.4],[.4],3.0,0,1.1)\n",
    "    # Check gamma\n",
    "    test.assert_almost_equal(1.3867504905639025, D0.gamma())\n",
    "    # Check particle's velocity\n",
    "    test.assert_almost_equal(.692820323028, D0.v())\n",
    "    # Check particle's momentum\n",
    "    test.assert_almost_equal(2.88230676849,D0.p())\n",
    "    \n",
    "    print('Particle Class Tests Passed')\n",
    "    \n",
    "particle_class_test()\n",
    "\n"
   ]
  },
  {
   "cell_type": "code",
   "execution_count": 5,
   "metadata": {
    "collapsed": false
   },
   "outputs": [
    {
     "name": "stdout",
     "output_type": "stream",
     "text": [
      "[['D0', ['K-', 'pi+']], ['D0_bar', ['K+', 'pi-']]]\n"
     ]
    }
   ],
   "source": [
    "import numpy as np\n",
    "import random\n",
    "\n",
    "# This function should randomly generate the chain of decays that will occur and print them in a nested list\n",
    "# The two elements are both lists who's first element is the particles created in the collision of e+ e-\n",
    "# ie if D0 and D0 bar were produced in the e+ e- collision and decayed to K- pi+ and K+ pi- respectively it would print\n",
    "# [['D0', ['K-', 'pi+']], ['D0_bar', ['K+', 'pi-']]]\n",
    "\n",
    "def decaychain():\n",
    "    particles = []\n",
    "    if random.random() < .5:\n",
    "        particles.append(['D0'])\n",
    "        particles.append(['D0_bar'])\n",
    "        if random.random()<.75:\n",
    "            particles[0].append(['K+','pi-'])\n",
    "        else:\n",
    "            particles[0].append(['K-','pi+'])\n",
    "        if random.random()<.75:\n",
    "            particles[1].append(['K+','pi-'])\n",
    "        else:\n",
    "            particles[1].append(['Ks','pi0'])\n",
    "    else:\n",
    "        particles.append(['D+'])\n",
    "        particles.append(['D-'])\n",
    "        if random.random()<.75:\n",
    "            particles[0].append(['Ks','pi+'])\n",
    "        else:\n",
    "            particles[0].append(['K+','pi0'])\n",
    "        if random.random()<.75:\n",
    "            particles[1].append(['Ks','pi-'])\n",
    "        else:\n",
    "            particles[1].append(['K-','pi0'])\n",
    "\n",
    "    print(particles)\n",
    "\n",
    "decaychain()"
   ]
  },
  {
   "cell_type": "code",
   "execution_count": 57,
   "metadata": {
    "collapsed": false
   },
   "outputs": [
    {
     "name": "stdout",
     "output_type": "stream",
     "text": [
      "Particle: pip, Mass: 0.135 GeV/c**2, Charge: 1, Lifetime: 2.0 s, Energy: 1.22137083333 GeV, Momentum: 1.21388702626 GeV/c\n",
      "Particle: Km, Mass: 1.3 GeV/c**2, Charge: -1, Lifetime: 3.0 s, Energy: 1.77862916667 GeV, Momentum: 1.21388702626 GeV/c\n",
      "Two Body Decay Tests Passed\n"
     ]
    }
   ],
   "source": [
    "def two_body_decay(parent,daughter1,daughter2):\n",
    "    \"\"\"\n",
    "    This function will take a particle and make it decay to two daughter particles\n",
    "    while conserving energy and momentum relativistically.\n",
    "    \n",
    "    Inputs\n",
    "    ------\n",
    "    particle  -- Initial particle we want to decay.  [Particle Object]\n",
    "    duaghter1 -- First daughter particle.  [Same as above, but information like its position, velocity, etc. will be unknown]\n",
    "    duaghter2 -- Second daughter particle.  [Same as above]\n",
    "    \n",
    "    Outputs\n",
    "    -------\n",
    "    duaghter1 -- First daughter particle.  [Same as above, but information like its position, velocity, etc. will now be known]\n",
    "    duaghter2 -- Second daughter particle.  [Same as above]\n",
    "    \n",
    "    Notes\n",
    "    -----\n",
    "\n",
    "    \"\"\"\n",
    "    import numpy as np\n",
    "    import random\n",
    "    \n",
    "    e_init = parent.e()\n",
    "    p_init = parent.e()\n",
    "    \n",
    "    m = parent.mass()\n",
    "    m1 = daughter1.mass()\n",
    "    m2 = daughter2.mass()\n",
    "    \n",
    "    # Check if decay is possible\n",
    "    if m < (m1+m2):\n",
    "        print('Daughter particles have greater mass than parent')\n",
    "        return\n",
    "    \n",
    "    # C.o.M. Frame energies and momenta\n",
    "    e1 = (m*m + m1*m1 - m2*m2) / (2.0*m)\n",
    "    e2 = (m*m - m1*m1 + m2*m2) / (2.0*m)\n",
    "    P  = np.sqrt(e1*e1 - m1*m1)\n",
    "    \n",
    "    # Get angles\n",
    "    theta = np.arccos( 2.0*random.random() - 1.0 )\n",
    "    phi   = 2.0 * np.pi * random.random()\n",
    "\n",
    "    # Calculate Momenta\n",
    "    pX = P*np.sin(theta)*np.cos(phi)\n",
    "    pY = P*np.sin(theta)*np.sin(phi)\n",
    "    pZ = P*np.cos(theta)\n",
    "    \n",
    "    betax1 = pX / e1\n",
    "    betay1 = pY / e1\n",
    "    betaz1 = pZ / e1\n",
    "    beta12 = betax1*betax1 + betay1*betay1 + betaz1*betaz1\n",
    "    gamma1 = 1.0/np.sqrt(1.0-beta12)\n",
    "    \n",
    "    betax2 = pX / e2\n",
    "    betay2 = pY / e2\n",
    "    betaz2 = pZ / e2\n",
    "    beta22 = betax2*betax2 + betay2*betay2 + betaz2*betaz2\n",
    "    gamma2 = 1.0/np.sqrt(1.0-beta22)\n",
    "    \n",
    "    # Calculate Velocity from momentum\n",
    "    vX1 = [pX / (m1*gamma1)]\n",
    "    vY1 = [pY / (m1*gamma1)]\n",
    "    vZ1 = [pZ / (m1*gamma1)]\n",
    "    \n",
    "    vX2 = [pX / (m2*gamma2)]\n",
    "    vY2 = [pY / (m2*gamma2)]\n",
    "    vZ2 = [pZ / (m2*gamma2)]\n",
    "    \n",
    "    X = [parent.x()[-1]]\n",
    "    Y = [parent.y()[-1]]\n",
    "    Z = [parent.z()[-1]]\n",
    "    \n",
    "    name1 = daughter1.name()\n",
    "    name2 = daughter2.name()    \n",
    "    \n",
    "    q1 = daughter1.charge()\n",
    "    q2 = daughter2.charge()\n",
    "    \n",
    "    t1 = daughter1.lifetime()\n",
    "    t2 = daughter2.lifetime()\n",
    "    \n",
    "    daughter1 = Particle(name1,X,Y,Z,vX1,vY1,vZ1,m1,q1,t1)\n",
    "    daughter2 = Particle(name2,X,Y,Z,vX2,vY2,vZ2,m2,q2,t2)\n",
    "    return parent, daughter1, daughter2\n",
    "\n",
    "\n"
   ]
  },
  {
   "cell_type": "code",
   "execution_count": 58,
   "metadata": {
    "collapsed": false
   },
   "outputs": [
    {
     "name": "stdout",
     "output_type": "stream",
     "text": [
      "Particle: pip, Mass: 0.135 GeV/c**2, Charge: 1, Lifetime: 2.0 s, Energy: 1.22137083333 GeV, Momentum: 1.21388702626 GeV/c\n",
      "Particle: Km, Mass: 1.3 GeV/c**2, Charge: -1, Lifetime: 3.0 s, Energy: 1.77862916667 GeV, Momentum: 1.21388702626 GeV/c\n",
      "Two Body Decay Tests Passed\n"
     ]
    }
   ],
   "source": [
    "def two_body_decay_test():\n",
    "    D0 = Particle('D0',[1,5],[1,4],[1,8],[.01],[.01],[.01],3.0,0,1.1)\n",
    "    pi_plus = Particle('pip',[0],[0],[0],[.01],[.01],[.01],.135,1,2.0)\n",
    "    K_minus = Particle('Km',[0],[0],[0],[.01],[.01],[.01],1.3,-1,3.0)\n",
    "\n",
    "    D0, pi_plus, K_minus = two_body_decay(D0,pi_plus,K_minus)\n",
    "    \n",
    "    # Check for equal momenta\n",
    "    test.assert_almost_equal(pi_plus.p(), K_minus.p())\n",
    "    # Check for correct initial position\n",
    "    test.assert_almost_equal(pi_plus.x()[0], K_minus.x()[0], D0.x()[-1])\n",
    "    test.assert_almost_equal(pi_plus.y()[0], K_minus.y()[0], D0.y()[-1])\n",
    "    test.assert_almost_equal(pi_plus.z()[0], K_minus.z()[0], D0.z()[-1])\n",
    "    # Check for correct energy\n",
    "    test.assert_almost_equal(pi_plus.e(), 1.2213708333)\n",
    "    test.assert_almost_equal(K_minus.e(), 1.7786291667)\n",
    "    \n",
    "    print(pi_plus)\n",
    "    print(K_minus)\n",
    "    print('Two Body Decay Tests Passed')\n",
    "    \n",
    "    \n",
    "two_body_decay_test()"
   ]
  },
  {
   "cell_type": "code",
   "execution_count": 66,
   "metadata": {
    "collapsed": true
   },
   "outputs": [],
   "source": [
    "def boost(parent):\n",
    "    '''\n",
    "    Performs a Lorentz Boost into the rest frame of a particle. Use on daughters to get from C.o.M. frame to Lab frame\n",
    "    \n",
    "    Inputs\n",
    "    ------\n",
    "    parent  -- Particle whose rest frame we want to boost to.  [Particle Object]\n",
    "    \n",
    "    \n",
    "    Outputs\n",
    "    -------\n",
    "    \n",
    "    \n",
    "    Notes\n",
    "    -----\n",
    "    \n",
    "    '''\n",
    "    \n",
    "    betax = parent.px() / parent.e()\n",
    "    betay = parent.py() / parent.e()\n",
    "    betaz = parent.pz() / parent.e()\n",
    "    beta2 = betax*betax + betay*betay + betaz*betaz\n",
    "    gamma = 1.0/sqrt(1.0-beta2)\n",
    "    dot   = betax*px + betay*py + betaz*pz\n",
    "    prod  = gamma*( gamma*dot/(1.0+gamma) + E )\n",
    "\n",
    "    pX = px + betax*prod\n",
    "    pY = py + betay*prod\n",
    "    pZ = pz + betaz*prod\n",
    "    e  = gamma*(E + dot)\n",
    "    \n",
    "    # Not Sure How To Test This Yet"
   ]
  },
  {
   "cell_type": "code",
   "execution_count": 71,
   "metadata": {
    "collapsed": false
   },
   "outputs": [
    {
     "data": {
      "image/png": "[encoded data removed]",
      "text/plain": [
       "<matplotlib.figure.Figure at 0x13131ba8>"
      ]
     },
     "metadata": {},
     "output_type": "display_data"
    },
    {
     "data": {
      "image/png": "[encoded data removed]",
      "text/plain": [
       "<matplotlib.figure.Figure at 0x12fca9e8>"
      ]
     },
     "metadata": {},
     "output_type": "display_data"
    },
    {
     "data": {
      "image/png": "[encoded data removed]",
      "text/plain": [
       "<matplotlib.figure.Figure at 0x133a2860>"
      ]
     },
     "metadata": {},
     "output_type": "display_data"
    },
    {
     "data": {
      "text/plain": [
       "\"\\nTrying to look at 3d plot\\nimport matplotlib.pyplot as plt\\nfrom mpl_toolkits.mplot3d import Axes3D\\nfig = plt.figure()\\nax = fig.add_subplot(111, projection='3d')\\nAxes3D.plot(D0_path[:,0],D0_path[:,2],zs=D0_path[:,4])\\n\""
      ]
     },
     "execution_count": 71,
     "metadata": {},
     "output_type": "execute_result"
    }
   ],
   "source": [
    "import scipy\n",
    "from scipy import integrate\n",
    "import matplotlib.pyplot as plt\n",
    "%matplotlib inline\n",
    "\n",
    "# dx/dt = vx\n",
    "# dvx/dt = 0\n",
    "# dy/dt = vy\n",
    "# dvy/dt = vy*q*B/m\n",
    "# dz/dt = vz\n",
    "# dvz/dt = vz*q*B/m\n",
    "\n",
    "def path(particle,t,B=1):\n",
    "    x,vx,y,vy,z,vz,m,q = particle[0],particle[1],particle[2],particle[3],particle[4],particle[5],particle[6],particle[7]\n",
    "    # force on charged particle = q*vperp*B\n",
    "    # Our B field is in the x direction\n",
    "    a = q*np.sqrt(vy**2+vz**2)*B/m\n",
    "    # th = np.arctan(vz/vy)\n",
    "    r = np.sqrt(vy**2+vz**2)\n",
    "    return np.array([vx, 0, vy, vy*q*B/m, vz, vz*q*B/m])\n",
    "\n",
    "D_plus = Particle('D+',[0],[0],[0],[.01],[.01],[.01],3.0,.001,1.1)\n",
    "#print(D0.x())\n",
    "t_array = np.linspace(0,10000,100000)\n",
    "\n",
    "D_plus_path = scipy.integrate.odeint(path, D_plus.array(), t_array)\n",
    "\n",
    "#plt.plot(t_array, D0_path[:,0])\n",
    "\n",
    "plt.plot(D_plus_path[:,0],D_plus_path[:,2])\n",
    "plt.show()\n",
    "plt.plot(D_plus_path[:,0],D_plus_path[:,4])\n",
    "plt.show()\n",
    "plt.plot(D_plus_path[:,5],D_plus_path[:,3])\n",
    "plt.show()\n",
    "\n",
    "'''\n",
    "Trying to look at 3d plot\n",
    "import matplotlib.pyplot as plt\n",
    "from mpl_toolkits.mplot3d import Axes3D\n",
    "fig = plt.figure()\n",
    "ax = fig.add_subplot(111, projection='3d')\n",
    "Axes3D.plot(D0_path[:,0],D0_path[:,2],zs=D0_path[:,4])\n",
    "'''\n",
    "# Charged particles not going in circles means that something is wrong\n",
    "# Constantly accelerating\n",
    "\n"
   ]
  },
  {
   "cell_type": "code",
   "execution_count": 81,
   "metadata": {
    "collapsed": false
   },
   "outputs": [
    {
     "name": "stdout",
     "output_type": "stream",
     "text": [
      "Neutral Particle Path tests passed\n"
     ]
    },
    {
     "name": "stderr",
     "output_type": "stream",
     "text": [
      "C:\\Users\\Anthony\\Anaconda\\lib\\site-packages\\IPython\\kernel\\__main__.py:18: RuntimeWarning: invalid value encountered in sqrt\n"
     ]
    },
    {
     "ename": "AssertionError",
     "evalue": "\nArrays are not almost equal to 7 decimals\n ACTUAL: 5\n DESIRED: 40.547438944284877",
     "output_type": "error",
     "traceback": [
      "\u001b[1;31m---------------------------------------------------------------------------\u001b[0m",
      "\u001b[1;31mAssertionError\u001b[0m                            Traceback (most recent call last)",
      "\u001b[1;32m<ipython-input-81-8ecb5ab08cca>\u001b[0m in \u001b[0;36m<module>\u001b[1;34m()\u001b[0m\n\u001b[0;32m     31\u001b[0m     \u001b[1;32mprint\u001b[0m\u001b[1;33m(\u001b[0m\u001b[1;34m'Charged Particle Path tests passed'\u001b[0m\u001b[1;33m)\u001b[0m\u001b[1;33m\u001b[0m\u001b[0m\n\u001b[0;32m     32\u001b[0m \u001b[1;33m\u001b[0m\u001b[0m\n\u001b[1;32m---> 33\u001b[1;33m \u001b[0mcharged_particle_path_test\u001b[0m\u001b[1;33m(\u001b[0m\u001b[1;33m)\u001b[0m\u001b[1;33m\u001b[0m\u001b[0m\n\u001b[0m",
      "\u001b[1;32m<ipython-input-81-8ecb5ab08cca>\u001b[0m in \u001b[0;36mcharged_particle_path_test\u001b[1;34m()\u001b[0m\n\u001b[0;32m     22\u001b[0m     \u001b[1;31m# Check final position\u001b[0m\u001b[1;33m\u001b[0m\u001b[1;33m\u001b[0m\u001b[0m\n\u001b[0;32m     23\u001b[0m     \u001b[0mtest\u001b[0m\u001b[1;33m.\u001b[0m\u001b[0massert_almost_equal\u001b[0m\u001b[1;33m(\u001b[0m\u001b[1;36m9\u001b[0m\u001b[1;33m,\u001b[0m\u001b[0mD_plus_path\u001b[0m\u001b[1;33m[\u001b[0m\u001b[1;33m-\u001b[0m\u001b[1;36m1\u001b[0m\u001b[1;33m,\u001b[0m\u001b[1;36m0\u001b[0m\u001b[1;33m]\u001b[0m\u001b[1;33m)\u001b[0m\u001b[1;33m\u001b[0m\u001b[0m\n\u001b[1;32m---> 24\u001b[1;33m     \u001b[0mtest\u001b[0m\u001b[1;33m.\u001b[0m\u001b[0massert_almost_equal\u001b[0m\u001b[1;33m(\u001b[0m\u001b[1;36m5\u001b[0m\u001b[1;33m,\u001b[0m\u001b[0mD_plus_path\u001b[0m\u001b[1;33m[\u001b[0m\u001b[1;33m-\u001b[0m\u001b[1;36m1\u001b[0m\u001b[1;33m,\u001b[0m\u001b[1;36m2\u001b[0m\u001b[1;33m]\u001b[0m\u001b[1;33m)\u001b[0m\u001b[1;33m\u001b[0m\u001b[0m\n\u001b[0m\u001b[0;32m     25\u001b[0m     \u001b[0mtest\u001b[0m\u001b[1;33m.\u001b[0m\u001b[0massert_almost_equal\u001b[0m\u001b[1;33m(\u001b[0m\u001b[1;36m4\u001b[0m\u001b[1;33m,\u001b[0m\u001b[0mD_plus_path\u001b[0m\u001b[1;33m[\u001b[0m\u001b[1;33m-\u001b[0m\u001b[1;36m1\u001b[0m\u001b[1;33m,\u001b[0m\u001b[1;36m4\u001b[0m\u001b[1;33m]\u001b[0m\u001b[1;33m)\u001b[0m\u001b[1;33m\u001b[0m\u001b[0m\n\u001b[0;32m     26\u001b[0m     \u001b[1;31m# Check final velocity\u001b[0m\u001b[1;33m\u001b[0m\u001b[1;33m\u001b[0m\u001b[0m\n",
      "\u001b[1;32mC:\\Users\\Anthony\\Anaconda\\lib\\site-packages\\numpy\\testing\\utils.pyc\u001b[0m in \u001b[0;36massert_almost_equal\u001b[1;34m(actual, desired, decimal, err_msg, verbose)\u001b[0m\n\u001b[0;32m    488\u001b[0m         \u001b[1;32mpass\u001b[0m\u001b[1;33m\u001b[0m\u001b[0m\n\u001b[0;32m    489\u001b[0m     \u001b[1;32mif\u001b[0m \u001b[0mround\u001b[0m\u001b[1;33m(\u001b[0m\u001b[0mabs\u001b[0m\u001b[1;33m(\u001b[0m\u001b[0mdesired\u001b[0m \u001b[1;33m-\u001b[0m \u001b[0mactual\u001b[0m\u001b[1;33m)\u001b[0m\u001b[1;33m,\u001b[0m \u001b[0mdecimal\u001b[0m\u001b[1;33m)\u001b[0m \u001b[1;33m!=\u001b[0m \u001b[1;36m0\u001b[0m \u001b[1;33m:\u001b[0m\u001b[1;33m\u001b[0m\u001b[0m\n\u001b[1;32m--> 490\u001b[1;33m         \u001b[1;32mraise\u001b[0m \u001b[0mAssertionError\u001b[0m\u001b[1;33m(\u001b[0m\u001b[0m_build_err_msg\u001b[0m\u001b[1;33m(\u001b[0m\u001b[1;33m)\u001b[0m\u001b[1;33m)\u001b[0m\u001b[1;33m\u001b[0m\u001b[0m\n\u001b[0m\u001b[0;32m    491\u001b[0m \u001b[1;33m\u001b[0m\u001b[0m\n\u001b[0;32m    492\u001b[0m \u001b[1;33m\u001b[0m\u001b[0m\n",
      "\u001b[1;31mAssertionError\u001b[0m: \nArrays are not almost equal to 7 decimals\n ACTUAL: 5\n DESIRED: 40.547438944284877"
     ]
    }
   ],
   "source": [
    "def neutral_particle_path_test():\n",
    "    D0 = Particle('D0',[0],[0],[0],[.9],[.5],[.4],3.0,0,1.1)\n",
    "    t_array = np.linspace(0,10,100)\n",
    "    D0_path = scipy.integrate.odeint(path, D0.array(), t_array)\n",
    "    # Check final position\n",
    "    test.assert_almost_equal(9,D0_path[-1,0])\n",
    "    test.assert_almost_equal(5,D0_path[-1,2])\n",
    "    test.assert_almost_equal(4,D0_path[-1,4])\n",
    "    # Check final velocity\n",
    "    test.assert_almost_equal(.9,D0_path[-1,1])\n",
    "    test.assert_almost_equal(.5,D0_path[-1,3])\n",
    "    test.assert_almost_equal(.4,D0_path[-1,5])\n",
    "    \n",
    "    print('Neutral Particle Path tests passed')\n",
    "    \n",
    "neutral_particle_path_test()\n",
    "\n",
    "def charged_particle_path_test():\n",
    "    D_plus = Particle('D+',[0],[0],[0],[.9],[.5],[.4],3.0,1,1.1)\n",
    "    t_array = np.linspace(0,10,100)\n",
    "    D_plus_path = scipy.integrate.odeint(path, D_plus.array(), t_array)\n",
    "    # Check final position\n",
    "    test.assert_almost_equal(9,D_plus_path[-1,0])\n",
    "    test.assert_almost_equal(5,D_plus_path[-1,2])\n",
    "    test.assert_almost_equal(4,D_plus_path[-1,4])\n",
    "    # Check final velocity\n",
    "    test.assert_almost_equal(.9,D_plus_path[-1,1])\n",
    "    test.assert_almost_equal(.5,D_plus_path[-1,3])\n",
    "    test.assert_almost_equal(.4,D_plus_path[-1,5])\n",
    "    \n",
    "    print('Charged Particle Path tests passed')\n",
    "\n",
    "charged_particle_path_test()"
   ]
  },
  {
   "cell_type": "code",
   "execution_count": 107,
   "metadata": {
    "collapsed": true
   },
   "outputs": [],
   "source": [
    "mass_dict = {'D0': 1864.84, 'D+': 1869.61, 'D-': 1869.61,\n",
    "             'Ks': 497.611, 'Kl': 497.611, 'K+': 493.677, 'K-': 497.677,\n",
    "             'pi0': 134.9766, 'pi+': 139.57018, 'pi-': 139.57018,\n",
    "             'rho': 775.26, 'rho+': 775.26, 'rho-': 775.26,\n",
    "             'e+': .510999, 'e+': .510999,\n",
    "             'mu': 105.6584, 'mu+': 105.6584, 'mu-': 105.6584}\n",
    "\n",
    "# Need to figure out time units\n",
    "life_dict = {'D0': , 'D+': , 'D-': ,\n",
    "             'Ks': , 'Kl': , 'K+': , 'K-': ,\n",
    "             'pi0': , 'pi+': , 'pi-': ,\n",
    "             'rho': , 'rho+': , 'rho-': ,\n",
    "             'e+': , 'e+': ,\n",
    "             'mu': , 'mu+': , 'mu-': }"
   ]
  },
  {
   "cell_type": "code",
   "execution_count": 109,
   "metadata": {
    "collapsed": false
   },
   "outputs": [
    {
     "data": {
      "text/plain": [
       "493.677"
      ]
     },
     "execution_count": 109,
     "metadata": {},
     "output_type": "execute_result"
    }
   ],
   "source": [
    "mass_dict['K+']"
   ]
  },
  {
   "cell_type": "code",
   "execution_count": null,
   "metadata": {
    "collapsed": true
   },
   "outputs": [],
   "source": []
  }
 ],
 "metadata": {
  "kernelspec": {
   "display_name": "Python 2",
   "language": "python",
   "name": "python2"
  },
  "language_info": {
   "codemirror_mode": {
    "name": "ipython",
    "version": 2
   },
   "file_extension": ".py",
   "mimetype": "text/x-python",
   "name": "python",
   "nbconvert_exporter": "python",
   "pygments_lexer": "ipython2",
   "version": "2.7.10"
  }
 },
 "nbformat": 4,
 "nbformat_minor": 0
}
