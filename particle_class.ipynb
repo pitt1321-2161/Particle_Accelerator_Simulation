{
 "cells": [
  {
   "cell_type": "code",
   "execution_count": 8,
   "metadata": {
    "collapsed": false
   },
   "outputs": [
    {
     "name": "stdout",
     "output_type": "stream",
     "text": [
      "1.41421356237\n",
      "1.41421356237\n",
      "2.44948974278\n",
      "<bound method Particle.name of <__main__.Particle instance at 0x00000000041C0EC8>>\n"
     ]
    }
   ],
   "source": [
    "import numpy as np\n",
    "\n",
    "class Particle:\n",
    "\n",
    "    def __init__(self,name,x,y,z,vx,vy,vz,m,q,t):\n",
    "        self.__name = name\n",
    "        self.__x = x \n",
    "        self.__y = y\n",
    "        self.__z = z\n",
    "        self.__vx = vx\n",
    "        self.__vy = vy\n",
    "        self.__vz = vz\n",
    "        self.__v = np.sqrt(vx**2+vy**2+vz**2)\n",
    "        self.__m = float(m)\n",
    "        self.__q = q \n",
    "        self.__t = float(t)\n",
    "        self.__gamma = float(1/np.sqrt(1-(self.__v)))\n",
    "        \n",
    "    def name(self):\n",
    "        return self.__name\n",
    "        \n",
    "    def x(self):\n",
    "        return self.__x\n",
    "        \n",
    "    def y(self):\n",
    "        return self.__y\n",
    "        \n",
    "    def z(self):\n",
    "        return self.__z\n",
    "    \n",
    "    \n",
    "    def vx(self):\n",
    "        return self.__vx\n",
    "        \n",
    "    def vy(self):\n",
    "        return self.__vy\n",
    "        \n",
    "    def vz(self):\n",
    "        return self.__vz   \n",
    "        \n",
    "    def v(self):\n",
    "        return np.sqrt(self.__vx**2+self.__vy**2+self.__vz**2)\n",
    "        \n",
    "        \n",
    "    def mass(self):\n",
    "        return self.__m\n",
    "        \n",
    "    def charge(self):\n",
    "        return self.__q\n",
    "        \n",
    "    def lifetime(self):\n",
    "        return self.__t\n",
    "        \n",
    "    def px(self):\n",
    "        return self.__gamma * self.__m * self.__vx\n",
    "        \n",
    "    def py(self):\n",
    "        return self.__gamma * self.__m * self.__vy\n",
    "        \n",
    "    def pz(self):\n",
    "        return self.__gamma * self.__m * self.__vz\n",
    "        \n",
    "    def p(self):\n",
    "        return self.__gamma * self.__m * self.__v\n",
    "    \n",
    "    def e(self):\n",
    "        return np.sqrt(self.p()**2+self.__m**2)\n",
    "    \n",
    "    def __str__(self):\n",
    "        return 'Particle: {}, Mass: {} GeV/c**2, Charge: {}, Lifetime: {} s'.format(\n",
    "            self.__name, self.__m, self.__q, self.__t)\n",
    "                \n",
    "D0 = Particle('D0',0,0,0,.50,0,0,2.0,0,1.1)\n",
    "print(D0.px())\n",
    "print(D0.p())\n",
    "print(D0.e())\n",
    "print(D0.name)"
   ]
  },
  {
   "cell_type": "code",
   "execution_count": 5,
   "metadata": {
    "collapsed": false
   },
   "outputs": [
    {
     "name": "stdout",
     "output_type": "stream",
     "text": [
      "[['D0', ['K-', 'pi+']], ['D0_bar', ['K+', 'pi-']]]\n"
     ]
    }
   ],
   "source": [
    "import numpy as np\n",
    "import random\n",
    "\n",
    "# This function should randomly generate the chain of decays that will occur and print them in a nested list\n",
    "# The two elements are both lists who's first element is the particles created in the collision of e+ e-\n",
    "# ie if D0 and D0 bar were produced in the e+ e- collision and decayed to K- pi+ and K+ pi- respectively it would print\n",
    "# [['D0', ['K-', 'pi+']], ['D0_bar', ['K+', 'pi-']]]\n",
    "\n",
    "def decaychain():\n",
    "    particles = []\n",
    "    if random.random() < .5:\n",
    "        particles.append(['D0'])\n",
    "        particles.append(['D0_bar'])\n",
    "        if random.random()<.75:\n",
    "            particles[0].append(['K+','pi-'])\n",
    "        else:\n",
    "            particles[0].append(['K-','pi+'])\n",
    "        if random.random()<.75:\n",
    "            particles[1].append(['K+','pi-'])\n",
    "        else:\n",
    "            particles[1].append(['Ks','pi0'])\n",
    "    else:\n",
    "        particles.append(['D+'])\n",
    "        particles.append(['D-'])\n",
    "        if random.random()<.75:\n",
    "            particles[0].append(['Ks','pi+'])\n",
    "        else:\n",
    "            particles[0].append(['K+','pi0'])\n",
    "        if random.random()<.75:\n",
    "            particles[1].append(['Ks','pi-'])\n",
    "        else:\n",
    "            particles[1].append(['K-','pi0'])\n",
    "\n",
    "    print(particles)\n",
    "\n",
    "decaychain()"
   ]
  },
  {
   "cell_type": "code",
   "execution_count": null,
   "metadata": {
    "collapsed": true
   },
   "outputs": [],
   "source": [
    "def two_body_decay(particle,daughter1,daughter2):\n",
    "    \"\"\"\n",
    "    This function will take a particle and make it decay to two daughter particles\n",
    "    while conserving energy and momentum relativistically.\n",
    "    \n",
    "    Inputs\n",
    "    ------\n",
    "    particle  -- Initial particle we want to decay.  [Particle Object]\n",
    "    duaghter1 -- First daughter particle.  [Same as above, but information like its energy, momenta, etc. will be unknown]\n",
    "    duaghter2 -- Second daughter particle.  [Same as above]\n",
    "    \n",
    "    Outputs\n",
    "    -------\n",
    "    duaghter1 -- First daughter particle.  [Same as above, but information like its energy, momenta, etc. will now be known]\n",
    "    duaghter2 -- Second daughter particle.  [Same as above]\n",
    "    \n",
    "    Notes\n",
    "    -----\n",
    "\n",
    "    \"\"\"\n",
    "    \n",
    "    energy_initial = particle['mass']**3*(particle['vx']**2+particle['vy']**2+particle['vz']**2)\n",
    "    \n",
    "    "
   ]
  },
  {
   "cell_type": "code",
   "execution_count": null,
   "metadata": {
    "collapsed": true
   },
   "outputs": [],
   "source": []
  }
 ],
 "metadata": {
  "kernelspec": {
   "display_name": "Python 2",
   "language": "python",
   "name": "python2"
  },
  "language_info": {
   "codemirror_mode": {
    "name": "ipython",
    "version": 2
   },
   "file_extension": ".py",
   "mimetype": "text/x-python",
   "name": "python",
   "nbconvert_exporter": "python",
   "pygments_lexer": "ipython2",
   "version": "2.7.10"
  }
 },
 "nbformat": 4,
 "nbformat_minor": 0
}
